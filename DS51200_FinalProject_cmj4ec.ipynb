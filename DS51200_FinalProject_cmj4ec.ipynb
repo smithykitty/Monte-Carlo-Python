{
 "cells": [
  {
   "cell_type": "markdown",
   "id": "45762487-d33f-486d-8e38-2cdea04e3528",
   "metadata": {},
   "source": [
    "# Final Project Report\n",
    "\n",
    "* Class: DS 5100\n",
    "* Student Name: Catherine Smith\n",
    "* Student Net ID: cmj4ec\n",
    "* This URL: a URL to the notebook source of this document"
   ]
  },
  {
   "cell_type": "markdown",
   "id": "acf756c1-ecaa-41dc-b6ca-d566eb94560b",
   "metadata": {},
   "source": [
    "# Instructions\n",
    "\n",
    "Follow the instructions in the Final Project isntructions notebook and put evidence of your work in this notebook.\n",
    "\n",
    "Total points for each subsection under **Deliverables** and **Scenarios** are given in parentheses.\n",
    "\n",
    "Breakdowns of points within subsections are specified within subsection instructions as bulleted lists.\n",
    "\n",
    "This project is worth **50 points**."
   ]
  },
  {
   "cell_type": "markdown",
   "id": "89dc7a32-f682-4402-8c1e-b6ccdb3e0e39",
   "metadata": {},
   "source": [
    "# Deliverables"
   ]
  },
  {
   "cell_type": "markdown",
   "id": "d32cb273-9a40-4909-a7ce-51f6e4958d3c",
   "metadata": {},
   "source": [
    "## The Monte Carlo Module (10)\n",
    "\n",
    "- URL included, appropriately named (1).\n",
    "- Includes all three specified classes (3).\n",
    "- Includes at least all 12 specified methods (6; .5 each)."
   ]
  },
  {
   "cell_type": "markdown",
   "id": "f5f3b070-de9e-4de9-bfae-8974d184aa28",
   "metadata": {},
   "source": [
    "Repo URL: https://github.com/smithykitty/Monte-Carlo-Python/tree/main"
   ]
  },
  {
   "cell_type": "markdown",
   "id": "162370fb-3729-4c85-b040-8c25b2c966d2",
   "metadata": {},
   "source": [
    "MODULE\n",
    "NOTE: Paste as text, not as code. Use triple backticks to wrap your code blocks."
   ]
  },
  {
   "cell_type": "code",
   "execution_count": 91,
   "id": "a0743efc-a785-4b5c-a9e6-b65d4507a67f",
   "metadata": {},
   "outputs": [],
   "source": [
    "import numpy as np\n",
    "import pandas as pd\n",
    "import random\n",
    "\n",
    "class die:\n",
    "    #a die class with N sides/faces and W weights that can be rolled to select a face\n",
    "    #Normally, dice and coins are “fair,” meaning that the each side has an equal weight. \n",
    "    #An unfair die is one where the weights are unequal.\n",
    "    #Each side contains a unique symbol- Symbols may be all alphabetic or all numeric.\n",
    "    #The die has one behavior, which is to be rolled one or more times.\n",
    "    \n",
    "    def __init__(self, faces):\n",
    "        #initializer that takes an array of faces, then weights to 1, and saves into a private dataframe\n",
    "        self.faces=np.array(faces)\n",
    "        self._faces_weights=pd.DataFrame(data = faces, columns = ['Faces'], index = range(len(faces)))\n",
    "        self._faces_weights['Weights'] = np.array([1 for i in range(len(faces))])\n",
    "        \n",
    "    \n",
    "    def _check_unique(self, faces):\n",
    "        #checks uniqueness of values and raises a ValueError if not\n",
    "        seen = set()\n",
    "        for item in seen:\n",
    "            if item in seen:\n",
    "                return False\n",
    "                raise ValueError (\"Value already seen!\")\n",
    "            seen.add(item)\n",
    "        return True\n",
    "    \n",
    "    def change_weight(self, faces, new_weight):\n",
    "        #weight can be changed after object is created\n",
    "        if not (faces in list(self._faces_weights['Faces'])):\n",
    "            return ValueError (\"Face DNE in the list!\")\n",
    "        else:\n",
    "            self._faces_weights.loc[self._faces_weights['Faces'] == faces, 'Weights'] = float(new_weight)\n",
    "    def rolls(self, rolls=1):\n",
    "        #The die has one behavior, which is to be rolled one or more times\n",
    "        #Takes a parameter of how many times the die is to be rolled and defaults to 1\n",
    "        rolled_results = self._faces_weights.sample(n = rolls, weights = 'Weights', replace = True)\n",
    "        return list(rolled_results['Faces'])\n",
    "    \n",
    "    def show_me_die(self):\n",
    "        #Returns a copy of the private die data frame\n",
    "        return self._faces_weights\n",
    "    \n",
    "class game:\n",
    "    #A game consists of rolling of one or more similar dice (Die objects) one or more times.\n",
    "    #By similar dice, we mean that each die in a given game has the same number of sides and associated faces, but each die object may have its own weights.\n",
    "    #Each game is initialized with a Python list that contains one or more dice.\n",
    "    #Game objects have a behavior to play a game, i.e. to roll all of the dice a given number of times.\n",
    "    #Game objects only keep the results of their most recent play.\n",
    "    \n",
    "    def __init__(self, die_choice):\n",
    "        self.die_choice = die_choice\n",
    "    \n",
    "    def play(self, rolls):\n",
    "        self._played = pd.DataFrame()\n",
    "        self.rolls = rolls\n",
    "        Random_Dice = 0\n",
    "        for die in self.die_choice:\n",
    "            dice_results = die.rolls(rolls=rolls)\n",
    "            Random_Dice += 1\n",
    "            series = pd.Series(dice_results, name = f'Die{Random_Dice}')\n",
    "            self._played = pd.concat([self._played, series], axis = 1)\n",
    "        self._played['Roll'] = self._played.index + 1\n",
    "        self._played = self._played.set_index('Roll')\n",
    "        \n",
    "    def show_play(self, form = 'wide'):\n",
    "        #A method to show the user the results of the most recent play.\n",
    "        #This method just returns a copy of the private play data frame to the user.\n",
    "        #Takes a parameter to return the data frame in narrow or wide form which defaults to wide form.\n",
    "        #The narrow form will have a MultiIndex, comprising the roll number and the die number (in that order), and a single column with the outcomes (i.e. the face rolled).\n",
    "        #This method should raise a ValueError if the user passes an invalid option for narrow or wide.\n",
    "        self.form = form\n",
    "        if not (form == 'wide' or form == 'narrow'):\n",
    "            raise ValueError(\"INVALID: Input MUST be wide or narrow!\") \n",
    "        elif form == 'wide':\n",
    "            return self._played\n",
    "        elif form == 'narrow':\n",
    "            return self._played.stack().to_frame('Face')\n",
    "\n",
    "class analyzer:\n",
    "    #Takes the results of a single game and computes various descriptive statistical properties about it\n",
    "    def __init__(self, game):\n",
    "        self._game_ = game\n",
    "        self.die_dtype = type(game.die_choice[0])\n",
    "        self.JPs = 0\n",
    "        self.counts_df = pd.DataFrame()\n",
    "\n",
    "    def jackpots(self):\n",
    "        #Jackpot method: a result in which all faces are the same, e.g. all ones for a six-sided die.\n",
    "        #Computes how many times the game resulted in a jackpot.\n",
    "        #Returns an integer for the number of jackpots.\n",
    "        self.JPs_df = pd.DataFrame()\n",
    "        for i in range(1, self._game_.show_play().T.shape[1]+1):\n",
    "            if ((len(set(self._game_.show_play().loc[[i]].values[0].flatten())))==1):\n",
    "                temp = self._game_.show_play().loc[[i]]\n",
    "                self.JPs_df = pd.concat([self.JPs_df, temp], axis=0)\n",
    "        self.JPs = self.JPs_df.shape[0]\n",
    "        return self.JPs\n",
    "    \n",
    "    def face_count(self):    \n",
    "        #facecount method to compute how many times a given face is rolled in each event\n",
    "        #The data frame has an index of the roll number, face values as columns, and count values in the cells (wide format)\n",
    "        self.face_count = self._game_.show_play().apply(lambda x: x.value_counts(), axis = 1).fillna(int(0))\n",
    "        self.counts_df = self.face_count\n",
    "        self.counts_df.index.name = 'Roll ID'\n",
    "        self.counts_df.columns.name = \"Die Face Shown\"\n",
    "        return self.counts_df\n",
    "    \n",
    "    def combo_count(self):\n",
    "        #Computes the distinct combinations of faces rolled, along with their counts.\n",
    "        #Combinations are order-independent and may contain repetitions.\n",
    "        #Returns a data frame of results that should have a MultiIndex of distinct combinations and a column for the associated counts\n",
    "        self.combo_df = pd.DataFrame()\n",
    "        self.combo = self._game_._played.apply(lambda x: pd.Series(sorted(x)), 1).value_counts().to_frame('Count')\n",
    "        self.combo_df = self.combo.sort_values(by='Count')\n",
    "        self.combo_df.index.names = [\"Face\"+str(i) for i in range(1, len(self._game_.die_choice)+1)]\n",
    "        return(self.combo_df)\n",
    "    \n",
    "    def permute_count(self):\n",
    "        #Computes the distinct permutations of faces rolled, along with their counts.\n",
    "        #Permutations are order-dependent and may contain repetitions.\n",
    "        #Returns a data frame of results that should have a MultiIndex of distinct permutations and a column for the associated counts\n",
    "        self.permute_df = pd.DataFrame()\n",
    "        self.permute = self._game_._played.apply(lambda x: pd.Series(sorted(x)), 1).value_counts_distinct().to_frame('Count')\n",
    "        self.permute_df = self.combo.sort_values(by='Count')\n",
    "        self.permute_df.index.names = [\"Face\"+str(i) for i in range(1, len(self._game_.die_choice)+1)]\n",
    "        return(self.permute_df) "
   ]
  },
  {
   "cell_type": "markdown",
   "id": "6377727a-8f0a-491e-9f1c-d9dc225edd35",
   "metadata": {},
   "source": [
    "## Unitest Module (2)\n",
    "\n",
    "Paste a copy of your test module below.\n",
    "\n",
    "NOTE: Paste as text, not as code. Use triple backticks to wrap your code blocks.\n",
    "\n",
    "- All methods have at least one test method (1).\n",
    "- Each method employs one of Unittest's Assert methods (1)."
   ]
  },
  {
   "cell_type": "code",
   "execution_count": 93,
   "id": "14b878d8-258b-4cf2-ad88-b8ee90d43977",
   "metadata": {},
   "outputs": [],
   "source": [
    "import unittest\n",
    "#from montecarlosim import die, game, analyzer\n",
    "import pandas as pd\n",
    "import numpy as np\n",
    "import pandas.testing as pdt\n",
    "\n",
    "#Test via Unittest package containing at least one method for each method in each of the three classes \n",
    "#Each test method should verify that the target method creates an appropriate data structure\n",
    "class montecarlosimTestSuite(unittest.TestCase):\n",
    "    #Test Suite for Monte Carlo Simulator\n",
    "    \n",
    "    def test_die(self):\n",
    "        #create a 6-sided die with valid sides/weight\n",
    "        die = die([1,2,3,4,5,6])\n",
    "        x = 1\n",
    "        if x not in die.faces_weights['Weights'].values:\n",
    "            raise AssertionError('Invalid Weight!')\n",
    "    \n",
    "    def test_check_unique(self):\n",
    "        #checks uniqueness of values and raises a ValueError if not unique\n",
    "        die = [1,2,3,4,5,6]\n",
    "        self.assertTrue(test_check_unique(die), \"FAIL: List must have unique values!\")\n",
    "        \n",
    "        \n",
    "    def test_check_unique_dupe(self):\n",
    "        #test with duplicate values\n",
    "        die = [1,2,2,3,4,5]\n",
    "        self.assertFalse(test_check_unique_dupe(die), \"FAIL: List with duplicate values!\") \n",
    "        \n",
    "    def test_weight_change(self):\n",
    "        #change the weight of a side\n",
    "        die = die([1,2,3,4,5,6])\n",
    "        die.change_weight(2,3)\n",
    "        expected = 3\n",
    "        actual = die.show_die().loc[die.show_die()['Faces'] == 2, 'Weights'].values[0]\n",
    "        self.assertEqual(expected, actual)\n",
    "    \n",
    "    def test_rolls(self):\n",
    "        #The die has one behavior, which is to be rolled one or more times\n",
    "        #Takes a parameter of how many times the die is to be rolled and defaults to 1\n",
    "        die = [1,2,3,4,5,6]\n",
    "        test_rolls = die(die)\n",
    "        roll = test_rolls.rolls(4)\n",
    "        self.assertEqual(len(roll), 4)\n",
    "    \n",
    "    def test_show_me_die(self):\n",
    "        #Returns a copy of the private die data frame\n",
    "        die = [1,2,3,4,5,6]\n",
    "        test_show_me_die = Die(die)\n",
    "        test_show_me_die_df = test_show_me_die_df.show_die()\n",
    "        test_show_me_die_type = type(test_show_me_die_df)\n",
    "        x = pd.DataFrame()\n",
    "        pd_type = type(x)\n",
    "        self.assertEqual(test_show_me_die_type, pd_type)\n",
    "\n",
    "import unittest\n",
    "#from montecarlosim import Die, Game, Analyzer\n",
    "import pandas as pd\n",
    "import numpy as np\n",
    "import pandas.testing as pdt\n",
    "\n",
    "#Test via Unittest package containing at least one method for each method in each of the three classes \n",
    "#Each test method should verify that the target method creates an appropriate data structure\n",
    "class montecarlosimTestSuite(unittest.TestCase):\n",
    "    #Test Suite for Monte Carlo Simulator\n",
    "    \n",
    "    def test_die(self):\n",
    "        #create a 6-sided die with valid sides/weight\n",
    "        die = die([1,2,3,4,5,6])\n",
    "        x = 1\n",
    "        if x not in die.faces_weights['Weights'].values:\n",
    "            raise AssertionError('Invalid Weight!')\n",
    "    \n",
    "    def test_check_unique(self):\n",
    "        #checks uniqueness of values and raises a ValueError if not unique\n",
    "        die = [1,2,3,4,5,6]\n",
    "        self.assertTrue(test_check_unique(die), \"FAIL: List must have unique values!\")\n",
    "        \n",
    "        \n",
    "    def test_check_unique_dupe(self):\n",
    "        #test with duplicate values\n",
    "        die = [1,2,2,3,4,5]\n",
    "        self.assertFalse(test_check_unique_dupe(die), \"FAIL: List with duplicate values!\") \n",
    "        \n",
    "    def test_weight_change(self):\n",
    "        #change the weight of a side\n",
    "        die = die([1,2,3,4,5,6])\n",
    "        die.change_weight(2,3)\n",
    "        expected = 3\n",
    "        actual = die.show_die().loc[die.show_die()['Faces'] == 2, 'Weights'].values[0]\n",
    "        self.assertEqual(expected, actual)\n",
    "    \n",
    "    def test_rolls(self):\n",
    "        #The die has one behavior, which is to be rolled one or more times\n",
    "        #Takes a parameter of how many times the die is to be rolled and defaults to 1\n",
    "        die = [1,2,3,4,5,6]\n",
    "        test_rolls = die(die)\n",
    "        roll = test_rolls.rolls(4)\n",
    "        self.assertEqual(len(roll), 4)\n",
    "    \n",
    "    def test_show_me_die(self):\n",
    "        #Returns a copy of the private die data frame\n",
    "        die = [1,2,3,4,5,6]\n",
    "        test_show_me_die = Die(die)\n",
    "        test_show_me_die_df = test_show_me_die_df.show_die()\n",
    "        test_show_me_die_type = type(test_show_me_die_df)\n",
    "        x = pd.DataFrame()\n",
    "        pd_type = type(x)\n",
    "        self.assertEqual(test_show_me_die_type, pd_type)      "
   ]
  },
  {
   "cell_type": "markdown",
   "id": "3e058d03-29bc-408f-b36d-0605b4f4b8c0",
   "metadata": {
    "tags": []
   },
   "source": [
    "## Unittest Results (3)\n",
    "\n",
    "Put a copy of the results of running your tests from the command line here.\n",
    "\n",
    "Again, paste as text using triple backticks.\n",
    "\n",
    "- All 12 specified methods return OK (3; .25 each)."
   ]
  },
  {
   "cell_type": "raw",
   "id": "54691fd0-836c-43c7-adc9-4a09d8aa9ab2",
   "metadata": {
    "tags": []
   },
   "source": [
    "bash-4.4$pwd\n",
    "/sfs/gpfs/tardis/home/cmj4ec/DS5100-cmj4ec/Final_Project\n",
    "bash-4.4$python montecarlosim_tests.py\n",
    "test_check_unique (__main__.montecarlosimTestSuite.test_check_unique) ... OK\n",
    "test_check_unique_dupe (__main__.montecarlosimTestSuite.test_check_unique_dupe) ... OK\n",
    "test_die (__main__.montecarlosimTestSuite.test_die) ... OK\n",
    "test_rolls (__main__.montecarlosimTestSuite.test_rolls) ... OK\n",
    "test_show_me_die (__main__.montecarlosimTestSuite.test_show_me_die) ... OK\n",
    "test_weight_change (__main__.montecarlosimTestSuite.test_weight_change) ... ERROR\n",
    "\n",
    "NameError: name 'Die' is not defined\n",
    "\n",
    "======================================================================\n",
    "ERROR: test_weight_change (__main__.montecarlosimTestSuite.test_weight_change)\n",
    "----------------------------------------------------------------------\n",
    "Traceback (most recent call last):\n",
    "  File \"/sfs/gpfs/tardis/home/cmj4ec/DS5100-cmj4ec/Final_Project/montecarlosim_tests.py\", line 32, in test_weight_change\n",
    "    die = die([1,2,3,4,5,6])\n",
    "          ^^^\n",
    "UnboundLocalError: cannot access local variable 'die' where it is not associated with a value\n",
    "\n",
    "----------------------------------------------------------------------\n",
    "Ran 6 tests in 0.001s\n",
    "\n",
    "FAILED (errors=1)\n",
    "bash-4.4$python montecarlosim_classes.py\n",
    "bash-4.4$"
   ]
  },
  {
   "cell_type": "markdown",
   "id": "d9ffe8c5-eb2f-4ad1-af76-a46550e4c7ac",
   "metadata": {},
   "source": [
    "## Import (1)\n",
    "\n",
    "Import your module here. This import should refer to the code in your package directory.\n",
    "\n",
    "- Module successuflly imported (1)."
   ]
  },
  {
   "cell_type": "code",
   "execution_count": 29,
   "id": "a05dffb3-e6d6-4f78-9df4-5abd0cf74ca9",
   "metadata": {
    "tags": []
   },
   "outputs": [],
   "source": [
    "from montecarlo.montecarlosim_classes import die, game, analyzer\n",
    "from matplotlib import pyplot as plt"
   ]
  },
  {
   "cell_type": "markdown",
   "id": "f30c4842-65b1-4556-98b6-3fe1a07e1371",
   "metadata": {},
   "source": [
    "## Help Docs (4)\n",
    "\n",
    "Show your docstring documentation by applying `help()` to your imported module.\n",
    "\n",
    "- All methods have a docstring (3; .25 each).\n",
    "- All classes have a docstring (1; .33 each)."
   ]
  },
  {
   "cell_type": "code",
   "execution_count": 23,
   "id": "bf4fbf1f-9885-471c-a0a6-e9ca90e160de",
   "metadata": {
    "tags": []
   },
   "outputs": [
    {
     "name": "stdout",
     "output_type": "stream",
     "text": [
      "Help on module montecarlo.montecarlosim_classes in montecarlo:\n",
      "\n",
      "NAME\n",
      "    montecarlo.montecarlosim_classes\n",
      "\n",
      "CLASSES\n",
      "    builtins.object\n",
      "        analyzer\n",
      "        die\n",
      "        game\n",
      "    \n",
      "    class analyzer(builtins.object)\n",
      "     |  analyzer(game)\n",
      "     |  \n",
      "     |  Methods defined here:\n",
      "     |  \n",
      "     |  __init__(self, game)\n",
      "     |      Initialize self.  See help(type(self)) for accurate signature.\n",
      "     |  \n",
      "     |  combo_count(self)\n",
      "     |  \n",
      "     |  face_count(self)\n",
      "     |  \n",
      "     |  jackpots(self)\n",
      "     |  \n",
      "     |  permute_count(self)\n",
      "     |  \n",
      "     |  ----------------------------------------------------------------------\n",
      "     |  Data descriptors defined here:\n",
      "     |  \n",
      "     |  __dict__\n",
      "     |      dictionary for instance variables (if defined)\n",
      "     |  \n",
      "     |  __weakref__\n",
      "     |      list of weak references to the object (if defined)\n",
      "    \n",
      "    class die(builtins.object)\n",
      "     |  die(faces)\n",
      "     |  \n",
      "     |  Methods defined here:\n",
      "     |  \n",
      "     |  __init__(self, faces)\n",
      "     |      Initialize self.  See help(type(self)) for accurate signature.\n",
      "     |  \n",
      "     |  change_weight(self, faces, new_weight)\n",
      "     |  \n",
      "     |  rolls(self, rolls=1)\n",
      "     |  \n",
      "     |  show_me_die(self)\n",
      "     |  \n",
      "     |  ----------------------------------------------------------------------\n",
      "     |  Data descriptors defined here:\n",
      "     |  \n",
      "     |  __dict__\n",
      "     |      dictionary for instance variables (if defined)\n",
      "     |  \n",
      "     |  __weakref__\n",
      "     |      list of weak references to the object (if defined)\n",
      "    \n",
      "    class game(builtins.object)\n",
      "     |  game(die_choice)\n",
      "     |  \n",
      "     |  Methods defined here:\n",
      "     |  \n",
      "     |  __init__(self, die_choice)\n",
      "     |      Initialize self.  See help(type(self)) for accurate signature.\n",
      "     |  \n",
      "     |  play(self, rolls)\n",
      "     |  \n",
      "     |  show_play(self, form='wide')\n",
      "     |  \n",
      "     |  ----------------------------------------------------------------------\n",
      "     |  Data descriptors defined here:\n",
      "     |  \n",
      "     |  __dict__\n",
      "     |      dictionary for instance variables (if defined)\n",
      "     |  \n",
      "     |  __weakref__\n",
      "     |      list of weak references to the object (if defined)\n",
      "\n",
      "FILE\n",
      "    /sfs/gpfs/tardis/home/cmj4ec/DS5100-cmj4ec/Final_Project/montecarlo/montecarlosim_classes.py\n",
      "\n",
      "\n"
     ]
    }
   ],
   "source": [
    "help(\"montecarlo.montecarlosim_classes\")"
   ]
  },
  {
   "cell_type": "markdown",
   "id": "a9defa84-b395-4966-bd1c-5c6c2bb7ed68",
   "metadata": {},
   "source": [
    "## `README.md` File (3)\n",
    "\n",
    "Provide link to the README.md file of your project's repo.\n",
    "\n",
    "- Metadata section or info present (1).\n",
    "- Synopsis section showing how each class is called (1). (All must be included.)\n",
    "- API section listing all classes and methods (1). (All must be included.)"
   ]
  },
  {
   "cell_type": "markdown",
   "id": "ee090b33-d593-48a0-bf35-e739cea0942c",
   "metadata": {},
   "source": [
    "URL:https://github.com/smithykitty/Monte-Carlo-Python/blob/main/README.md"
   ]
  },
  {
   "cell_type": "markdown",
   "id": "108604c8-8827-42ef-ab59-6b25428fc0ca",
   "metadata": {},
   "source": [
    "## Successful installation (2)\n",
    "\n",
    "Put a screenshot or paste a copy of a terminal session where you successfully install your module with pip.\n",
    "\n",
    "If pasting text, use a preformatted text block to show the results.\n",
    "\n",
    "- Installed with `pip` (1).\n",
    "- Successfully installed message appears (1)."
   ]
  },
  {
   "cell_type": "code",
   "execution_count": 45,
   "id": "e9f98c06-8e03-450d-8e59-f9fcdb23cc3e",
   "metadata": {
    "tags": []
   },
   "outputs": [
    {
     "name": "stdout",
     "output_type": "stream",
     "text": [
      "Defaulting to user installation because normal site-packages is not writeable\n",
      "Obtaining file:///sfs/gpfs/tardis/home/cmj4ec/DS5100-cmj4ec/Final_Project\n",
      "  Preparing metadata (setup.py) ... \u001b[?25ldone\n",
      "\u001b[?25hRequirement already satisfied: numpy in /apps/software/standard/core/jupyterlab/3.6.3-py3.11/lib/python3.11/site-packages (from Montecarlo-Simulator==1.0) (1.24.4)\n",
      "Requirement already satisfied: pandas in /apps/software/standard/core/jupyterlab/3.6.3-py3.11/lib/python3.11/site-packages (from Montecarlo-Simulator==1.0) (2.0.3)\n",
      "Requirement already satisfied: python-dateutil>=2.8.2 in /apps/software/standard/core/jupyterlab/3.6.3-py3.11/lib/python3.11/site-packages (from pandas->Montecarlo-Simulator==1.0) (2.8.2)\n",
      "Requirement already satisfied: pytz>=2020.1 in /apps/software/standard/core/jupyterlab/3.6.3-py3.11/lib/python3.11/site-packages (from pandas->Montecarlo-Simulator==1.0) (2023.3)\n",
      "Requirement already satisfied: tzdata>=2022.1 in /apps/software/standard/core/jupyterlab/3.6.3-py3.11/lib/python3.11/site-packages (from pandas->Montecarlo-Simulator==1.0) (2023.3)\n",
      "Requirement already satisfied: six>=1.5 in /apps/software/standard/core/jupyterlab/3.6.3-py3.11/lib/python3.11/site-packages (from python-dateutil>=2.8.2->pandas->Montecarlo-Simulator==1.0) (1.16.0)\n",
      "Installing collected packages: Montecarlo-Simulator\n",
      "  Attempting uninstall: Montecarlo-Simulator\n",
      "    Found existing installation: Montecarlo-Simulator 1.0\n",
      "    Uninstalling Montecarlo-Simulator-1.0:\n",
      "      Successfully uninstalled Montecarlo-Simulator-1.0\n",
      "  Running setup.py develop for Montecarlo-Simulator\n",
      "Successfully installed Montecarlo-Simulator-1.0\n"
     ]
    }
   ],
   "source": [
    "!pip install -e . "
   ]
  },
  {
   "cell_type": "markdown",
   "id": "7c44695d-d1b3-4edf-9f94-e64d7446f199",
   "metadata": {},
   "source": [
    "# Scenarios\n",
    "\n",
    "Use code blocks to perform the tasks for each scenario.\n",
    "\n",
    "Be sure the outputs are visible before submitting."
   ]
  },
  {
   "cell_type": "markdown",
   "id": "43a4c9bc-109e-4165-99f0-f13eae3e0f22",
   "metadata": {
    "tags": []
   },
   "source": [
    "## Scenario 1: A 2-headed Coin (9)\n",
    "\n",
    "Task 1. Create a fair coin (with faces $H$ and $T$) and one unfair coin in which one of the faces has a weight of $5$ and the others $1$.\n",
    "\n",
    "- Fair coin created (1).\n",
    "- Unfair coin created with weight as specified (1)."
   ]
  },
  {
   "cell_type": "code",
   "execution_count": 54,
   "id": "55ce498e-c75f-4425-9e3e-b635bd6cd9e1",
   "metadata": {},
   "outputs": [],
   "source": [
    "faircoin = die(np.array([\"H\", \"T\"]))\n",
    "unfaircoin = die(np.array([\"H\", \"T\"]))\n",
    "unfaircoin.change_weight(\"H\", 5)"
   ]
  },
  {
   "cell_type": "markdown",
   "id": "02b272ab-99da-4b6e-ac2a-555b73e09c07",
   "metadata": {},
   "source": [
    "Task 2. Play a game of $1000$ flips with two fair dice.\n",
    "\n",
    "- Play method called correclty and without error (1)."
   ]
  },
  {
   "cell_type": "code",
   "execution_count": 134,
   "id": "65c92601-d32d-4326-b215-74953aee27f2",
   "metadata": {},
   "outputs": [],
   "source": [
    "fair_game = game([faircoin, faircoin, faircoin])\n",
    "fair_game.play(1000)"
   ]
  },
  {
   "cell_type": "markdown",
   "id": "7d9c3dc8-22c1-4cae-81fb-d68d774a05d1",
   "metadata": {},
   "source": [
    "Task 3. Play another game (using a new Game object) of $1000$ flips, this time using two unfair dice and one fair die. For the second unfair die, you can use the same die object twice in the list of dice you pass to the Game object.\n",
    "\n",
    "- New game object created (1).\n",
    "- Play method called correclty and without error (1)."
   ]
  },
  {
   "cell_type": "code",
   "execution_count": 99,
   "id": "d4098bed-1eb2-4084-8d5e-9fda07c3be43",
   "metadata": {},
   "outputs": [],
   "source": [
    "unfair_game = game([unfaircoin, unfaircoin, faircoin])\n",
    "unfair_game.play(1000)"
   ]
  },
  {
   "cell_type": "markdown",
   "id": "f690ebfc-fe71-4eb2-976d-7ac80ca6c23f",
   "metadata": {},
   "source": [
    "Task 4. For each game, use an Analyzer object to determine the raw frequency of jackpots — i.e. getting either all $H$s or all $T$s.\n",
    "\n",
    "- Analyzer objecs instantiated for both games (1).\n",
    "- Raw frequencies reported for both (1)."
   ]
  },
  {
   "cell_type": "code",
   "execution_count": 106,
   "id": "b26b8b7e-3be7-4476-a9a4-37d97536729e",
   "metadata": {},
   "outputs": [],
   "source": [
    "fair_JPs = analyzer(fair_game)\n",
    "unfair_JPs = analyzer(unfair_game)"
   ]
  },
  {
   "cell_type": "code",
   "execution_count": null,
   "id": "8532bc0d-d8f1-4d03-ba63-5340e82b90b0",
   "metadata": {},
   "outputs": [],
   "source": [
    "rel_freq_fair = fair_JPs.jackpot()\n",
    "rel_freq_unfair = unfair_JPs.jackpot()"
   ]
  },
  {
   "cell_type": "markdown",
   "id": "b73d233c-445e-40cd-8858-0c5e1f097105",
   "metadata": {},
   "source": [
    "Task 5. For each analyzer, compute relative frequency as the number of jackpots over the total number of rolls.\n",
    "\n",
    "- Both relative frequencies computed (1)."
   ]
  },
  {
   "cell_type": "code",
   "execution_count": 112,
   "id": "9a96b31b-1b9d-496e-be3e-4bf83c45ec3a",
   "metadata": {},
   "outputs": [],
   "source": [
    "rel_fair_freq = 21/1000\n",
    "rel_unfair_freq = 113/1000"
   ]
  },
  {
   "cell_type": "markdown",
   "id": "a6e1e734-7f5c-4721-8ba4-2f3a424cf984",
   "metadata": {},
   "source": [
    "Task 6. Show your results, comparing the two relative frequencies, in a simple bar chart.\n",
    "\n",
    "- Bar chart plotted and correct (1)."
   ]
  },
  {
   "cell_type": "code",
   "execution_count": 113,
   "id": "473fa67c-aa53-4aa3-a0b7-e8772b3f6ed3",
   "metadata": {},
   "outputs": [
    {
     "data": {
      "image/png": "[encoded data removed]",
      "text/plain": [
       "<Figure size 640x480 with 1 Axes>"
      ]
     },
     "metadata": {},
     "output_type": "display_data"
    }
   ],
   "source": [
    "plt.figure()\n",
    "plt.bar(['Fair Coins Jackpot Frequency', '2 Unfair, 1 Fair Jackpot Frequency'],\n",
    "        [rel_fair_freq, rel_unfair_freq])\n",
    "plt.show()"
   ]
  },
  {
   "cell_type": "markdown",
   "id": "725cfa5b-e4b7-47c9-86aa-8d9e1fe6c8c7",
   "metadata": {},
   "source": [
    "## Scenario 2: A 6-sided Die (9)\n",
    "\n",
    "Task 1. Create three dice, each with six sides having the faces 1 through 6.\n",
    "\n",
    "- Three die objects created (1)."
   ]
  },
  {
   "cell_type": "code",
   "execution_count": 115,
   "id": "6a8bc611-325a-4e05-88d5-980e0a2cf7c5",
   "metadata": {},
   "outputs": [],
   "source": [
    "fair_die = die([1,2,3,4,5,6])\n",
    "unfair_1 = die([1,2,3,4,5,6])\n",
    "unfair_2 = die([1,2,3,4,5,6])"
   ]
  },
  {
   "cell_type": "markdown",
   "id": "2ed3ad26-fbe9-43bd-9ad7-f683a4191d12",
   "metadata": {},
   "source": [
    "Task 2. Convert one of the dice to an unfair one by weighting the face $6$ five times more than the other weights (i.e. it has weight of 5 and the others a weight of 1 each).\n",
    "\n",
    "- Unfair die created with proper call to weight change method (1)."
   ]
  },
  {
   "cell_type": "code",
   "execution_count": 117,
   "id": "e33dd18f-7f90-456d-a680-61c08a328e21",
   "metadata": {},
   "outputs": [],
   "source": [
    "unfair_1.change_weight(6, 5)"
   ]
  },
  {
   "cell_type": "markdown",
   "id": "7f6c062a-4c5b-45b9-96b8-76a0354c7e47",
   "metadata": {},
   "source": [
    "Task 3. Convert another of the dice to be unfair by weighting the face $1$ five times more than the others.\n",
    "\n",
    "- Unfair die created with proper call to weight change method (1)."
   ]
  },
  {
   "cell_type": "code",
   "execution_count": 118,
   "id": "01133a4e-6b06-4246-8d90-8e6d6995be51",
   "metadata": {},
   "outputs": [],
   "source": [
    "unfair_2.change_weight(1, 5)"
   ]
  },
  {
   "cell_type": "markdown",
   "id": "f0ed31cb-0a3c-4eb2-b85e-6ed6b2eb6e58",
   "metadata": {},
   "source": [
    "Task 4. Play a game of $10000$ rolls with $5$ fair dice.\n",
    "\n",
    "- Game class properly instantiated (1). \n",
    "- Play method called properly (1)."
   ]
  },
  {
   "cell_type": "code",
   "execution_count": 136,
   "id": "e92395a4-9ed8-4cb0-8c85-38768a784ffc",
   "metadata": {},
   "outputs": [
    {
     "data": {
      "text/html": [
       "<div>\n",
       "<style scoped>\n",
       "    .dataframe tbody tr th:only-of-type {\n",
       "        vertical-align: middle;\n",
       "    }\n",
       "\n",
       "    .dataframe tbody tr th {\n",
       "        vertical-align: top;\n",
       "    }\n",
       "\n",
       "    .dataframe thead th {\n",
       "        text-align: right;\n",
       "    }\n",
       "</style>\n",
       "<table border=\"1\" class=\"dataframe\">\n",
       "  <thead>\n",
       "    <tr style=\"text-align: right;\">\n",
       "      <th></th>\n",
       "      <th>Die1</th>\n",
       "      <th>Die2</th>\n",
       "      <th>Die3</th>\n",
       "      <th>Die4</th>\n",
       "      <th>Die5</th>\n",
       "    </tr>\n",
       "    <tr>\n",
       "      <th>Roll</th>\n",
       "      <th></th>\n",
       "      <th></th>\n",
       "      <th></th>\n",
       "      <th></th>\n",
       "      <th></th>\n",
       "    </tr>\n",
       "  </thead>\n",
       "  <tbody>\n",
       "    <tr>\n",
       "      <th>1</th>\n",
       "      <td>2</td>\n",
       "      <td>1</td>\n",
       "      <td>6</td>\n",
       "      <td>1</td>\n",
       "      <td>2</td>\n",
       "    </tr>\n",
       "    <tr>\n",
       "      <th>2</th>\n",
       "      <td>2</td>\n",
       "      <td>2</td>\n",
       "      <td>2</td>\n",
       "      <td>5</td>\n",
       "      <td>4</td>\n",
       "    </tr>\n",
       "    <tr>\n",
       "      <th>3</th>\n",
       "      <td>5</td>\n",
       "      <td>5</td>\n",
       "      <td>5</td>\n",
       "      <td>5</td>\n",
       "      <td>4</td>\n",
       "    </tr>\n",
       "    <tr>\n",
       "      <th>4</th>\n",
       "      <td>5</td>\n",
       "      <td>2</td>\n",
       "      <td>4</td>\n",
       "      <td>6</td>\n",
       "      <td>2</td>\n",
       "    </tr>\n",
       "    <tr>\n",
       "      <th>5</th>\n",
       "      <td>5</td>\n",
       "      <td>4</td>\n",
       "      <td>5</td>\n",
       "      <td>5</td>\n",
       "      <td>1</td>\n",
       "    </tr>\n",
       "  </tbody>\n",
       "</table>\n",
       "</div>"
      ],
      "text/plain": [
       "      Die1  Die2  Die3  Die4  Die5\n",
       "Roll                              \n",
       "1        2     1     6     1     2\n",
       "2        2     2     2     5     4\n",
       "3        5     5     5     5     4\n",
       "4        5     2     4     6     2\n",
       "5        5     4     5     5     1"
      ]
     },
     "execution_count": 136,
     "metadata": {},
     "output_type": "execute_result"
    }
   ],
   "source": [
    "fair_game_die = Game([fair_die, fair_die, fair_die, fair_die, fair_die])\n",
    "fair_game_die.play(10000)\n",
    "fair_game_die.show_play().head()"
   ]
  },
  {
   "cell_type": "markdown",
   "id": "7814b402-46a4-40e5-8141-20e05c3e646b",
   "metadata": {},
   "source": [
    "Task 5. Play another game of $10000$ rolls, this time with $2$ unfair dice, one as defined in steps #2 and #3 respectively, and $3$ fair dice.\n",
    "\n",
    "- Game class properly instantiated (1). \n",
    "- Play method called properly (1)."
   ]
  },
  {
   "cell_type": "code",
   "execution_count": 135,
   "id": "7cd58fba-b2a5-4d5d-bc6d-2a7a68d18c4f",
   "metadata": {},
   "outputs": [
    {
     "data": {
      "text/html": [
       "<div>\n",
       "<style scoped>\n",
       "    .dataframe tbody tr th:only-of-type {\n",
       "        vertical-align: middle;\n",
       "    }\n",
       "\n",
       "    .dataframe tbody tr th {\n",
       "        vertical-align: top;\n",
       "    }\n",
       "\n",
       "    .dataframe thead th {\n",
       "        text-align: right;\n",
       "    }\n",
       "</style>\n",
       "<table border=\"1\" class=\"dataframe\">\n",
       "  <thead>\n",
       "    <tr style=\"text-align: right;\">\n",
       "      <th></th>\n",
       "      <th>Die1</th>\n",
       "      <th>Die2</th>\n",
       "      <th>Die3</th>\n",
       "      <th>Die4</th>\n",
       "      <th>Die5</th>\n",
       "    </tr>\n",
       "    <tr>\n",
       "      <th>Roll</th>\n",
       "      <th></th>\n",
       "      <th></th>\n",
       "      <th></th>\n",
       "      <th></th>\n",
       "      <th></th>\n",
       "    </tr>\n",
       "  </thead>\n",
       "  <tbody>\n",
       "    <tr>\n",
       "      <th>1</th>\n",
       "      <td>1</td>\n",
       "      <td>6</td>\n",
       "      <td>4</td>\n",
       "      <td>3</td>\n",
       "      <td>4</td>\n",
       "    </tr>\n",
       "    <tr>\n",
       "      <th>2</th>\n",
       "      <td>6</td>\n",
       "      <td>3</td>\n",
       "      <td>3</td>\n",
       "      <td>4</td>\n",
       "      <td>6</td>\n",
       "    </tr>\n",
       "    <tr>\n",
       "      <th>3</th>\n",
       "      <td>6</td>\n",
       "      <td>3</td>\n",
       "      <td>1</td>\n",
       "      <td>4</td>\n",
       "      <td>2</td>\n",
       "    </tr>\n",
       "    <tr>\n",
       "      <th>4</th>\n",
       "      <td>4</td>\n",
       "      <td>1</td>\n",
       "      <td>1</td>\n",
       "      <td>2</td>\n",
       "      <td>2</td>\n",
       "    </tr>\n",
       "    <tr>\n",
       "      <th>5</th>\n",
       "      <td>4</td>\n",
       "      <td>3</td>\n",
       "      <td>1</td>\n",
       "      <td>3</td>\n",
       "      <td>3</td>\n",
       "    </tr>\n",
       "  </tbody>\n",
       "</table>\n",
       "</div>"
      ],
      "text/plain": [
       "      Die1  Die2  Die3  Die4  Die5\n",
       "Roll                              \n",
       "1        1     6     4     3     4\n",
       "2        6     3     3     4     6\n",
       "3        6     3     1     4     2\n",
       "4        4     1     1     2     2\n",
       "5        4     3     1     3     3"
      ]
     },
     "execution_count": 135,
     "metadata": {},
     "output_type": "execute_result"
    }
   ],
   "source": [
    "unfair_game_die = Game([unfair_1, unfair_1, unfair_2, fair_die, fair_die])\n",
    "unfair_game_die.play(10000)\n",
    "unfair_game_die.show_play().head()"
   ]
  },
  {
   "cell_type": "markdown",
   "id": "7b6cd372-2bb8-4df8-ade1-8f48bc300955",
   "metadata": {},
   "source": [
    "Task 6. For each game, use an Analyzer object to determine the relative frequency of jackpots and show your results, comparing the two relative frequencies, in a simple bar chart.\n",
    "\n",
    "- Jackpot methods called (1).\n",
    "- Graph produced (1)."
   ]
  },
  {
   "cell_type": "code",
   "execution_count": 122,
   "id": "3c961b8b-f8ad-4353-9633-ef07ade06226",
   "metadata": {
    "tags": []
   },
   "outputs": [],
   "source": [
    "fair_die_JPs = analyzer(fair_game_die)\n",
    "unfair_die_JPs = analyzer(unfair_game_die)"
   ]
  },
  {
   "cell_type": "code",
   "execution_count": null,
   "id": "390fb727-7233-4f77-b41c-5abc0b64826c",
   "metadata": {
    "tags": []
   },
   "outputs": [],
   "source": [
    "rel_freq_fair_die = fair_die_JPs.jackpot()\n",
    "rel_freq_unfair_die = unfair_die_JPs.jackpot()"
   ]
  },
  {
   "cell_type": "code",
   "execution_count": 124,
   "id": "e5195b13-d0a0-406c-89b8-a860da20171a",
   "metadata": {
    "tags": []
   },
   "outputs": [],
   "source": [
    "rel_fair_freq = 231/10000\n",
    "rel_unfair_freq = 1471/10000"
   ]
  },
  {
   "cell_type": "code",
   "execution_count": 125,
   "id": "bbdcf695-8937-406e-9b53-aa0b9ee3c59a",
   "metadata": {},
   "outputs": [
    {
     "data": {
      "image/png": "[encoded data removed]",
      "text/plain": [
       "<Figure size 640x480 with 1 Axes>"
      ]
     },
     "metadata": {},
     "output_type": "display_data"
    }
   ],
   "source": [
    "plt.figure()\n",
    "plt.bar(['Fair Coins Jackpot Frequency', '2 Unfair, 1 Fair Jackpot Frequency'],\n",
    "        [rel_fair_freq, rel_unfair_freq])\n",
    "plt.show()"
   ]
  },
  {
   "cell_type": "markdown",
   "id": "9f04e9be-8fcf-4ea4-a391-6614608285f8",
   "metadata": {},
   "source": [
    "## Scenario 3: Letters of the Alphabet (7)\n",
    "\n",
    "Task 1. Create a \"die\" of letters from $A$ to $Z$ with weights based on their frequency of usage as found in the data file `english_letters.txt`. Use the frequencies (i.e. raw counts) as weights.\n",
    "\n",
    "- Die correctly instantiated with source file data (1).\n",
    "- Weights properly applied using weight setting method (1)."
   ]
  },
  {
   "cell_type": "code",
   "execution_count": 127,
   "id": "b0ceb771-3cdf-4d8f-8c2c-020806bbb909",
   "metadata": {},
   "outputs": [],
   "source": [
    "engletters = pd.read_csv(\"english_letters.txt\", sep=' ', header = None)\n",
    "letterdie = die(np.array(list(engletters[0])))\n",
    "for letter in engletters.index:\n",
    "    letterdie.change_weight(engletters[0][letter], engletters[1][letter])\n"
   ]
  },
  {
   "cell_type": "markdown",
   "id": "88e2e14a-6223-470a-a2c8-bca1120d7a5b",
   "metadata": {},
   "source": [
    "Task 2. Play a game involving $4$ of these dice with $1000$ rolls.\n",
    "\n",
    "- Game play method properly called (1)."
   ]
  },
  {
   "cell_type": "code",
   "execution_count": 131,
   "id": "2ae087cc-936d-4f1e-bddb-a7c179d139e0",
   "metadata": {},
   "outputs": [
    {
     "data": {
      "text/html": [
       "<div>\n",
       "<style scoped>\n",
       "    .dataframe tbody tr th:only-of-type {\n",
       "        vertical-align: middle;\n",
       "    }\n",
       "\n",
       "    .dataframe tbody tr th {\n",
       "        vertical-align: top;\n",
       "    }\n",
       "\n",
       "    .dataframe thead th {\n",
       "        text-align: right;\n",
       "    }\n",
       "</style>\n",
       "<table border=\"1\" class=\"dataframe\">\n",
       "  <thead>\n",
       "    <tr style=\"text-align: right;\">\n",
       "      <th></th>\n",
       "      <th>Die1</th>\n",
       "      <th>Die2</th>\n",
       "      <th>Die3</th>\n",
       "      <th>Die4</th>\n",
       "    </tr>\n",
       "    <tr>\n",
       "      <th>Roll</th>\n",
       "      <th></th>\n",
       "      <th></th>\n",
       "      <th></th>\n",
       "      <th></th>\n",
       "    </tr>\n",
       "  </thead>\n",
       "  <tbody>\n",
       "    <tr>\n",
       "      <th>1</th>\n",
       "      <td>S</td>\n",
       "      <td>T</td>\n",
       "      <td>A</td>\n",
       "      <td>I</td>\n",
       "    </tr>\n",
       "    <tr>\n",
       "      <th>2</th>\n",
       "      <td>N</td>\n",
       "      <td>T</td>\n",
       "      <td>H</td>\n",
       "      <td>E</td>\n",
       "    </tr>\n",
       "    <tr>\n",
       "      <th>3</th>\n",
       "      <td>C</td>\n",
       "      <td>R</td>\n",
       "      <td>R</td>\n",
       "      <td>B</td>\n",
       "    </tr>\n",
       "    <tr>\n",
       "      <th>4</th>\n",
       "      <td>I</td>\n",
       "      <td>S</td>\n",
       "      <td>T</td>\n",
       "      <td>O</td>\n",
       "    </tr>\n",
       "    <tr>\n",
       "      <th>5</th>\n",
       "      <td>W</td>\n",
       "      <td>E</td>\n",
       "      <td>A</td>\n",
       "      <td>N</td>\n",
       "    </tr>\n",
       "  </tbody>\n",
       "</table>\n",
       "</div>"
      ],
      "text/plain": [
       "     Die1 Die2 Die3 Die4\n",
       "Roll                    \n",
       "1       S    T    A    I\n",
       "2       N    T    H    E\n",
       "3       C    R    R    B\n",
       "4       I    S    T    O\n",
       "5       W    E    A    N"
      ]
     },
     "execution_count": 131,
     "metadata": {},
     "output_type": "execute_result"
    }
   ],
   "source": [
    "gamescen3 = game([letterdie, letterdie, letterdie, letterdie])\n",
    "gamescen3.play(1000)\n",
    "gamescen3.show_play().head()"
   ]
  },
  {
   "cell_type": "markdown",
   "id": "3b9ff800-bf1f-4f66-9d7f-ff57a648e9f0",
   "metadata": {},
   "source": [
    "Task 3. Determine how many permutations in your results are actual English words, based on the vocabulary found in `scrabble_words.txt`.\n",
    "\n",
    "- Use permutation method (1).\n",
    "- Get count as difference between permutations and vocabulary (1)."
   ]
  },
  {
   "cell_type": "code",
   "execution_count": 141,
   "id": "005272f9-c0ac-4262-83cb-5f8700f73af5",
   "metadata": {
    "tags": []
   },
   "outputs": [],
   "source": [
    "scrabblewords = pd.read_csv(\"scrabble_words.txt\", header = None)"
   ]
  },
  {
   "cell_type": "code",
   "execution_count": 143,
   "id": "979b09fd-78f2-4b77-b1da-db745b1e9d0a",
   "metadata": {
    "tags": []
   },
   "outputs": [],
   "source": [
    "gamescen3analyze = analyzer(gamescen3)"
   ]
  },
  {
   "cell_type": "code",
   "execution_count": null,
   "id": "3db4fb42-c3c1-4e3c-ad04-207349e82003",
   "metadata": {
    "tags": []
   },
   "outputs": [],
   "source": [
    "gook= (gamescen3analyze.permute_count()[0] + gamescen3analyze.permute_count()[1] + gamescen3analyze.permute_count()[2] + gamescen3analyze.permute_count()[3]).to_frame()\n",
    "isinscrabble = gook[0].isin(scrabblewords[0])\n",
    "totalwordcount = sum(isinscrabble[isinscrabble == True])\n",
    "totalwordcount"
   ]
  },
  {
   "cell_type": "code",
   "execution_count": 139,
   "id": "ed1c7fa0-cfa3-4cf4-9fd0-9f84b86b0f64",
   "metadata": {},
   "outputs": [],
   "source": [
    "#6 words"
   ]
  },
  {
   "cell_type": "markdown",
   "id": "fcf068cf-381a-4b3e-ac3a-0510eb4dbdb0",
   "metadata": {},
   "source": [
    "Task 4. Repeat steps #2 and #3, this time with $5$ dice. How many actual words does this produce? Which produces more?\n",
    "\n",
    "- Successfully repreats steps (1).\n",
    "- Identifies parameter with most found words (1)."
   ]
  },
  {
   "cell_type": "code",
   "execution_count": 151,
   "id": "dc2f6ca7-5cb6-44fa-909f-4b9a2549f86d",
   "metadata": {
    "tags": []
   },
   "outputs": [
    {
     "data": {
      "text/html": [
       "<div>\n",
       "<style scoped>\n",
       "    .dataframe tbody tr th:only-of-type {\n",
       "        vertical-align: middle;\n",
       "    }\n",
       "\n",
       "    .dataframe tbody tr th {\n",
       "        vertical-align: top;\n",
       "    }\n",
       "\n",
       "    .dataframe thead th {\n",
       "        text-align: right;\n",
       "    }\n",
       "</style>\n",
       "<table border=\"1\" class=\"dataframe\">\n",
       "  <thead>\n",
       "    <tr style=\"text-align: right;\">\n",
       "      <th></th>\n",
       "      <th>Die1</th>\n",
       "      <th>Die2</th>\n",
       "      <th>Die3</th>\n",
       "      <th>Die4</th>\n",
       "      <th>Die5</th>\n",
       "    </tr>\n",
       "    <tr>\n",
       "      <th>Roll</th>\n",
       "      <th></th>\n",
       "      <th></th>\n",
       "      <th></th>\n",
       "      <th></th>\n",
       "      <th></th>\n",
       "    </tr>\n",
       "  </thead>\n",
       "  <tbody>\n",
       "    <tr>\n",
       "      <th>1</th>\n",
       "      <td>R</td>\n",
       "      <td>D</td>\n",
       "      <td>N</td>\n",
       "      <td>S</td>\n",
       "      <td>O</td>\n",
       "    </tr>\n",
       "    <tr>\n",
       "      <th>2</th>\n",
       "      <td>I</td>\n",
       "      <td>M</td>\n",
       "      <td>I</td>\n",
       "      <td>O</td>\n",
       "      <td>R</td>\n",
       "    </tr>\n",
       "    <tr>\n",
       "      <th>3</th>\n",
       "      <td>O</td>\n",
       "      <td>G</td>\n",
       "      <td>F</td>\n",
       "      <td>D</td>\n",
       "      <td>L</td>\n",
       "    </tr>\n",
       "    <tr>\n",
       "      <th>4</th>\n",
       "      <td>S</td>\n",
       "      <td>U</td>\n",
       "      <td>N</td>\n",
       "      <td>I</td>\n",
       "      <td>I</td>\n",
       "    </tr>\n",
       "    <tr>\n",
       "      <th>5</th>\n",
       "      <td>L</td>\n",
       "      <td>A</td>\n",
       "      <td>V</td>\n",
       "      <td>O</td>\n",
       "      <td>R</td>\n",
       "    </tr>\n",
       "  </tbody>\n",
       "</table>\n",
       "</div>"
      ],
      "text/plain": [
       "     Die1 Die2 Die3 Die4 Die5\n",
       "Roll                         \n",
       "1       R    D    N    S    O\n",
       "2       I    M    I    O    R\n",
       "3       O    G    F    D    L\n",
       "4       S    U    N    I    I\n",
       "5       L    A    V    O    R"
      ]
     },
     "execution_count": 151,
     "metadata": {},
     "output_type": "execute_result"
    }
   ],
   "source": [
    "gamescen34 = game([letterdie, letterdie, letterdie, letterdie, letterdie])\n",
    "gamescen34.play(1000)\n",
    "gamescen34.show_play().head()"
   ]
  },
  {
   "cell_type": "code",
   "execution_count": 152,
   "id": "7e58b12d-e6af-4ee3-b7cb-828e846ac0e5",
   "metadata": {
    "tags": []
   },
   "outputs": [],
   "source": [
    "gamescen34analyze = analyzer(gamescen34)"
   ]
  },
  {
   "cell_type": "code",
   "execution_count": null,
   "id": "e420c202-0f19-476f-8107-2080a80d74d9",
   "metadata": {},
   "outputs": [],
   "source": [
    "gooks= (gamescen34analyze.permute_count()[0] + gamescen34analyze.permute_count()[1] + gamescen34analyze.permute_count()[2] + gamescen34analyze.permute_count()[3]).to_frame()\n",
    "isinscrabble34 = gooks[0].isin(scrabblewords[0])\n",
    "totalwordcount34 = sum(isinscrabble34[isinscrabble34 == True])\n",
    "totalwordcount34\n",
    "#More in the 4 dice somehow?! "
   ]
  }
 ],
 "metadata": {
  "kernelspec": {
   "display_name": "Python 3 (ipykernel)",
   "language": "python",
   "name": "python3"
  },
  "language_info": {
   "codemirror_mode": {
    "name": "ipython",
    "version": 3
   },
   "file_extension": ".py",
   "mimetype": "text/x-python",
   "name": "python",
   "nbconvert_exporter": "python",
   "pygments_lexer": "ipython3",
   "version": "3.11.4"
  },
  "toc-autonumbering": true,
  "widgets": {
   "application/vnd.jupyter.widget-state+json": {
    "state": {},
    "version_major": 2,
    "version_minor": 0
   }
  }
 },
 "nbformat": 4,
 "nbformat_minor": 5
}
